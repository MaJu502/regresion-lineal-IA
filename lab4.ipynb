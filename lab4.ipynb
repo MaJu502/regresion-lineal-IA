{
 "cells": [
  {
   "attachments": {},
   "cell_type": "markdown",
   "metadata": {},
   "source": [
    "# Regresion lineal\n",
    "creado por Marco Jurado 20308\n"
   ]
  },
  {
   "attachments": {},
   "cell_type": "markdown",
   "metadata": {},
   "source": [
    "### >> Task 1.1 "
   ]
  },
  {
   "cell_type": "code",
   "execution_count": 119,
   "metadata": {},
   "outputs": [
    {
     "data": {
      "text/plain": [
       "(21613, 21)"
      ]
     },
     "execution_count": 119,
     "metadata": {},
     "output_type": "execute_result"
    }
   ],
   "source": [
    "import numpy as np\n",
    "data = np.array(np.genfromtxt('kc_house_data.csv', delimiter=',', skip_header=True))\n",
    "data.shape"
   ]
  },
  {
   "attachments": {},
   "cell_type": "markdown",
   "metadata": {},
   "source": [
    "ahora obtenemos las variables de price y sqft living luego de asegurar que esten libres de null o nan"
   ]
  },
  {
   "cell_type": "code",
   "execution_count": 120,
   "metadata": {},
   "outputs": [
    {
     "data": {
      "text/plain": [
       "(21613, 21)"
      ]
     },
     "execution_count": 120,
     "metadata": {},
     "output_type": "execute_result"
    }
   ],
   "source": [
    "data = data[~np.isnan(data[:,2])] # price\n",
    "data = data[~np.isnan(data[:,5])] # sqft living\n",
    "data.shape"
   ]
  },
  {
   "cell_type": "code",
   "execution_count": 121,
   "metadata": {},
   "outputs": [],
   "source": [
    "X = data[:, 2].reshape(-1, 1)\n",
    "Y = data[:, 5].reshape(-1, 1)"
   ]
  },
  {
   "cell_type": "code",
   "execution_count": 122,
   "metadata": {},
   "outputs": [
    {
     "data": {
      "text/plain": [
       "(21613, 1)"
      ]
     },
     "execution_count": 122,
     "metadata": {},
     "output_type": "execute_result"
    }
   ],
   "source": [
    "X.shape"
   ]
  },
  {
   "cell_type": "code",
   "execution_count": 123,
   "metadata": {},
   "outputs": [
    {
     "data": {
      "text/plain": [
       "(21613, 1)"
      ]
     },
     "execution_count": 123,
     "metadata": {},
     "output_type": "execute_result"
    }
   ],
   "source": [
    "Y.shape"
   ]
  },
  {
   "attachments": {},
   "cell_type": "markdown",
   "metadata": {},
   "source": [
    "Ahora se debe de calcular el Xr"
   ]
  },
  {
   "cell_type": "code",
   "execution_count": 124,
   "metadata": {},
   "outputs": [
    {
     "data": {
      "text/plain": [
       "array([[1.00000e+00, 2.21900e+05],\n",
       "       [1.00000e+00, 5.38000e+05],\n",
       "       [1.00000e+00, 1.80000e+05],\n",
       "       ...,\n",
       "       [1.00000e+00, 4.02101e+05],\n",
       "       [1.00000e+00, 4.00000e+05],\n",
       "       [1.00000e+00, 3.25000e+05]])"
      ]
     },
     "execution_count": 124,
     "metadata": {},
     "output_type": "execute_result"
    }
   ],
   "source": [
    "Xr = np.column_stack((np.ones((len(X), 1)), X.reshape(-1, 1))).reshape(-1,2)\n",
    "Xr"
   ]
  },
  {
   "attachments": {},
   "cell_type": "markdown",
   "metadata": {},
   "source": [
    "Y el valor de theta_0"
   ]
  },
  {
   "cell_type": "code",
   "execution_count": 125,
   "metadata": {},
   "outputs": [
    {
     "data": {
      "text/plain": [
       "array([[0.38735176],\n",
       "       [0.54413697]])"
      ]
     },
     "execution_count": 125,
     "metadata": {},
     "output_type": "execute_result"
    }
   ],
   "source": [
    "theta_0 = np.random.rand(Xr.shape[1])\n",
    "theta_0 = theta_0[~np.isnan(theta_0)].reshape(-1, 1)\n",
    "theta_0"
   ]
  },
  {
   "cell_type": "code",
   "execution_count": 126,
   "metadata": {},
   "outputs": [
    {
     "data": {
      "text/plain": [
       "(2, 1)"
      ]
     },
     "execution_count": 126,
     "metadata": {},
     "output_type": "execute_result"
    }
   ],
   "source": [
    "theta_0.shape"
   ]
  },
  {
   "cell_type": "markdown",
   "metadata": {},
   "source": []
  },
  {
   "cell_type": "code",
   "execution_count": 127,
   "metadata": {},
   "outputs": [],
   "source": [
    "norm = lambda v: (sum(v**2))**0.5\n",
    "cost = lambda X, y, t: ((X @ t - y) ** 2).sum() / len(y)\n",
    "grad = lambda X, y, t: 2 * X.T @ (X @ t - y) / len(y)"
   ]
  },
  {
   "cell_type": "code",
   "execution_count": 128,
   "metadata": {},
   "outputs": [],
   "source": [
    "def regresion_lineal(X, y, t, cost, grad, a=0.00025, n=1000, on_step=None): \n",
    "    costs = []\n",
    "    for i in range(n):\n",
    "        t -= a * grad(X, y, t)\n",
    "        costs.append(cost(X, y, t))\n",
    "        if on_step:\n",
    "            on_step(t)\n",
    "\n",
    "    return t, costs"
   ]
  },
  {
   "cell_type": "code",
   "execution_count": 129,
   "metadata": {},
   "outputs": [
    {
     "name": "stderr",
     "output_type": "stream",
     "text": [
      "C:\\Users\\marco\\AppData\\Local\\Temp\\ipykernel_29004\\1767679890.py:2: RuntimeWarning: overflow encountered in square\n",
      "  cost = lambda X, y, t: ((X @ t - y) ** 2).sum() / len(y)\n",
      "C:\\Users\\marco\\AppData\\Local\\Temp\\ipykernel_29004\\1767679890.py:3: RuntimeWarning: overflow encountered in matmul\n",
      "  grad = lambda X, y, t: 2 * X.T @ (X @ t - y) / len(y)\n",
      "C:\\Users\\marco\\AppData\\Local\\Temp\\ipykernel_29004\\2279675731.py:4: RuntimeWarning: invalid value encountered in subtract\n",
      "  t -= a * grad(X, y, t)\n"
     ]
    }
   ],
   "source": [
    "thetaf, cost = regresion_lineal(Xr, Y, theta_0, cost, grad, a=0.0000025, n=100)"
   ]
  },
  {
   "cell_type": "code",
   "execution_count": null,
   "metadata": {},
   "outputs": [],
   "source": []
  }
 ],
 "metadata": {
  "kernelspec": {
   "display_name": "Python 3",
   "language": "python",
   "name": "python3"
  },
  "language_info": {
   "codemirror_mode": {
    "name": "ipython",
    "version": 3
   },
   "file_extension": ".py",
   "mimetype": "text/x-python",
   "name": "python",
   "nbconvert_exporter": "python",
   "pygments_lexer": "ipython3",
   "version": "3.10.5"
  },
  "orig_nbformat": 4
 },
 "nbformat": 4,
 "nbformat_minor": 2
}

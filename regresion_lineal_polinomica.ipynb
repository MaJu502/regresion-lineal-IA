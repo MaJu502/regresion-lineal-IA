{
 "cells": [
  {
   "attachments": {},
   "cell_type": "markdown",
   "metadata": {},
   "source": [
    "# Regresion lineal\n",
    "creado por Marco Jurado 20308\n"
   ]
  },
  {
   "attachments": {},
   "cell_type": "markdown",
   "metadata": {},
   "source": [
    "### >> Abrir el csv"
   ]
  },
  {
   "cell_type": "code",
   "execution_count": 31,
   "metadata": {},
   "outputs": [],
   "source": [
    "import csv\n",
    "with open('kc_house_data.csv', 'r') as file:\n",
    "    csv_reader = csv.reader(file)\n",
    "    datacsv = []\n",
    "    for row in csv_reader:\n",
    "        datacsv.append(row)"
   ]
  },
  {
   "cell_type": "code",
   "execution_count": 32,
   "metadata": {},
   "outputs": [
    {
     "name": "stdout",
     "output_type": "stream",
     "text": [
      " Elementos en el dataset \n",
      " [['id', 'date', 'price', 'bedrooms', 'bathrooms', 'sqft_living', 'sqft_lot', 'floors', 'waterfront', 'view', 'condition', 'grade', 'sqft_above', 'sqft_basement', 'yr_built', 'yr_renovated', 'zipcode', 'lat', 'long', 'sqft_living15', 'sqft_lot15']]\n",
      "\n",
      "\n",
      " Primeros cinco elementos del dataset \n",
      " [['7129300520', '20141013T000000', '221900', '3', '1', '1180', '5650', '1', '0', '0', '3', '7', '1180', '0', '1955', '0', '98178', '47.5112', '-122.257', '1340', '5650'], ['6414100192', '20141209T000000', '538000', '3', '2.25', '2570', '7242', '2', '0', '0', '3', '7', '2170', '400', '1951', '1991', '98125', '47.721', '-122.319', '1690', '7639'], ['5631500400', '20150225T000000', '180000', '2', '1', '770', '10000', '1', '0', '0', '3', '6', '770', '0', '1933', '0', '98028', '47.7379', '-122.233', '2720', '8062'], ['2487200875', '20141209T000000', '604000', '4', '3', '1960', '5000', '1', '0', '0', '5', '7', '1050', '910', '1965', '0', '98136', '47.5208', '-122.393', '1360', '5000']]\n",
      "\n",
      "\n",
      " Ulitmos cinco elementos del dataset \n",
      " [['0263000018', '20140521T000000', '360000', '3', '2.5', '1530', '1131', '3', '0', '0', '3', '8', '1530', '0', '2009', '0', '98103', '47.6993', '-122.346', '1530', '1509'], ['6600060120', '20150223T000000', '400000', '4', '2.5', '2310', '5813', '2', '0', '0', '3', '8', '2310', '0', '2014', '0', '98146', '47.5107', '-122.362', '1830', '7200'], ['1523300141', '20140623T000000', '402101', '2', '0.75', '1020', '1350', '2', '0', '0', '3', '7', '1020', '0', '2009', '0', '98144', '47.5944', '-122.299', '1020', '2007'], ['0291310100', '20150116T000000', '400000', '3', '2.5', '1600', '2388', '2', '0', '0', '3', '8', '1600', '0', '2004', '0', '98027', '47.5345', '-122.069', '1410', '1287'], ['1523300157', '20141015T000000', '325000', '2', '0.75', '1020', '1076', '2', '0', '0', '3', '7', '1020', '0', '2008', '0', '98144', '47.5941', '-122.299', '1020', '1357']]\n",
      "\n",
      "\n",
      " Data tiene un size the  21614\n"
     ]
    }
   ],
   "source": [
    "print(' Elementos en el dataset \\n',datacsv[0:1])\n",
    "print('\\n\\n Primeros cinco elementos del dataset \\n',datacsv[1:5])\n",
    "print('\\n\\n Ulitmos cinco elementos del dataset \\n',datacsv[-5:])\n",
    "print('\\n\\n Data tiene un size the ',len(datacsv))"
   ]
  },
  {
   "attachments": {},
   "cell_type": "markdown",
   "metadata": {},
   "source": [
    "crear arreglo de numpy con instruccion de genfromtxt"
   ]
  },
  {
   "cell_type": "code",
   "execution_count": 33,
   "metadata": {},
   "outputs": [
    {
     "data": {
      "text/plain": [
       "array([[         nan,          nan,  2.21900e+05, ..., -1.22257e+02,\n",
       "         1.34000e+03,  5.65000e+03],\n",
       "       [         nan,          nan,  5.38000e+05, ..., -1.22319e+02,\n",
       "         1.69000e+03,  7.63900e+03],\n",
       "       [         nan,          nan,  1.80000e+05, ..., -1.22233e+02,\n",
       "         2.72000e+03,  8.06200e+03],\n",
       "       ...,\n",
       "       [         nan,          nan,  4.02101e+05, ..., -1.22299e+02,\n",
       "         1.02000e+03,  2.00700e+03],\n",
       "       [         nan,          nan,  4.00000e+05, ..., -1.22069e+02,\n",
       "         1.41000e+03,  1.28700e+03],\n",
       "       [         nan,          nan,  3.25000e+05, ..., -1.22299e+02,\n",
       "         1.02000e+03,  1.35700e+03]])"
      ]
     },
     "execution_count": 33,
     "metadata": {},
     "output_type": "execute_result"
    }
   ],
   "source": [
    "import numpy as np\n",
    "data = np.array(np.genfromtxt('kc_house_data.csv', delimiter=',', skip_header=True))\n",
    "data"
   ]
  },
  {
   "attachments": {},
   "cell_type": "markdown",
   "metadata": {},
   "source": [
    "Ahora limpio las dos variables de price y sqft living"
   ]
  },
  {
   "cell_type": "code",
   "execution_count": 34,
   "metadata": {},
   "outputs": [
    {
     "data": {
      "text/plain": [
       "(21613, 21)"
      ]
     },
     "execution_count": 34,
     "metadata": {},
     "output_type": "execute_result"
    }
   ],
   "source": [
    "data = data[~np.isnan(data[:,2])] # price\n",
    "data = data[~np.isnan(data[:,5])] # sqft living\n",
    "data.shape\n"
   ]
  },
  {
   "attachments": {},
   "cell_type": "markdown",
   "metadata": {},
   "source": [
    "### >> Separar X y Y"
   ]
  },
  {
   "cell_type": "code",
   "execution_count": null,
   "metadata": {},
   "outputs": [],
   "source": []
  }
 ],
 "metadata": {
  "kernelspec": {
   "display_name": "Python 3",
   "language": "python",
   "name": "python3"
  },
  "language_info": {
   "codemirror_mode": {
    "name": "ipython",
    "version": 3
   },
   "file_extension": ".py",
   "mimetype": "text/x-python",
   "name": "python",
   "nbconvert_exporter": "python",
   "pygments_lexer": "ipython3",
   "version": "3.10.5"
  },
  "orig_nbformat": 4
 },
 "nbformat": 4,
 "nbformat_minor": 2
}

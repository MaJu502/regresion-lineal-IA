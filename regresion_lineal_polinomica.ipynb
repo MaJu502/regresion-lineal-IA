{
 "cells": [
  {
   "attachments": {},
   "cell_type": "markdown",
   "metadata": {},
   "source": [
    "# Regresion lineal\n",
    "creado por Marco Jurado 20308\n"
   ]
  },
  {
   "attachments": {},
   "cell_type": "markdown",
   "metadata": {},
   "source": [
    "### >> Abrir el csv"
   ]
  },
  {
   "cell_type": "code",
   "execution_count": 2,
   "metadata": {},
   "outputs": [],
   "source": [
    "import csv\n",
    "with open('kc_house_data.csv', 'r') as file:\n",
    "    csv_reader = csv.reader(file)\n",
    "    datacsv = []\n",
    "    for row in csv_reader:\n",
    "        datacsv.append(row)"
   ]
  },
  {
   "cell_type": "code",
   "execution_count": 3,
   "metadata": {},
   "outputs": [
    {
     "name": "stdout",
     "output_type": "stream",
     "text": [
      " Elementos en el dataset \n",
      " [['id', 'date', 'price', 'bedrooms', 'bathrooms', 'sqft_living', 'sqft_lot', 'floors', 'waterfront', 'view', 'condition', 'grade', 'sqft_above', 'sqft_basement', 'yr_built', 'yr_renovated', 'zipcode', 'lat', 'long', 'sqft_living15', 'sqft_lot15']]\n",
      "\n",
      "\n",
      " Primeros cinco elementos del dataset \n",
      " [['7129300520', '20141013T000000', '221900', '3', '1', '1180', '5650', '1', '0', '0', '3', '7', '1180', '0', '1955', '0', '98178', '47.5112', '-122.257', '1340', '5650'], ['6414100192', '20141209T000000', '538000', '3', '2.25', '2570', '7242', '2', '0', '0', '3', '7', '2170', '400', '1951', '1991', '98125', '47.721', '-122.319', '1690', '7639'], ['5631500400', '20150225T000000', '180000', '2', '1', '770', '10000', '1', '0', '0', '3', '6', '770', '0', '1933', '0', '98028', '47.7379', '-122.233', '2720', '8062'], ['2487200875', '20141209T000000', '604000', '4', '3', '1960', '5000', '1', '0', '0', '5', '7', '1050', '910', '1965', '0', '98136', '47.5208', '-122.393', '1360', '5000']]\n",
      "\n",
      "\n",
      " Ulitmos cinco elementos del dataset \n",
      " [['0263000018', '20140521T000000', '360000', '3', '2.5', '1530', '1131', '3', '0', '0', '3', '8', '1530', '0', '2009', '0', '98103', '47.6993', '-122.346', '1530', '1509'], ['6600060120', '20150223T000000', '400000', '4', '2.5', '2310', '5813', '2', '0', '0', '3', '8', '2310', '0', '2014', '0', '98146', '47.5107', '-122.362', '1830', '7200'], ['1523300141', '20140623T000000', '402101', '2', '0.75', '1020', '1350', '2', '0', '0', '3', '7', '1020', '0', '2009', '0', '98144', '47.5944', '-122.299', '1020', '2007'], ['0291310100', '20150116T000000', '400000', '3', '2.5', '1600', '2388', '2', '0', '0', '3', '8', '1600', '0', '2004', '0', '98027', '47.5345', '-122.069', '1410', '1287'], ['1523300157', '20141015T000000', '325000', '2', '0.75', '1020', '1076', '2', '0', '0', '3', '7', '1020', '0', '2008', '0', '98144', '47.5941', '-122.299', '1020', '1357']]\n",
      "\n",
      "\n",
      " Data tiene un size the  21614\n"
     ]
    }
   ],
   "source": [
    "print(' Elementos en el dataset \\n',datacsv[0:1])\n",
    "print('\\n\\n Primeros cinco elementos del dataset \\n',datacsv[1:5])\n",
    "print('\\n\\n Ulitmos cinco elementos del dataset \\n',datacsv[-5:])\n",
    "print('\\n\\n Data tiene un size the ',len(datacsv))"
   ]
  },
  {
   "attachments": {},
   "cell_type": "markdown",
   "metadata": {},
   "source": [
    "crear arreglo de numpy con instruccion de genfromtxt"
   ]
  },
  {
   "cell_type": "code",
   "execution_count": 4,
   "metadata": {},
   "outputs": [
    {
     "data": {
      "text/plain": [
       "array([[         nan,          nan,  2.21900e+05, ..., -1.22257e+02,\n",
       "         1.34000e+03,  5.65000e+03],\n",
       "       [         nan,          nan,  5.38000e+05, ..., -1.22319e+02,\n",
       "         1.69000e+03,  7.63900e+03],\n",
       "       [         nan,          nan,  1.80000e+05, ..., -1.22233e+02,\n",
       "         2.72000e+03,  8.06200e+03],\n",
       "       ...,\n",
       "       [         nan,          nan,  4.02101e+05, ..., -1.22299e+02,\n",
       "         1.02000e+03,  2.00700e+03],\n",
       "       [         nan,          nan,  4.00000e+05, ..., -1.22069e+02,\n",
       "         1.41000e+03,  1.28700e+03],\n",
       "       [         nan,          nan,  3.25000e+05, ..., -1.22299e+02,\n",
       "         1.02000e+03,  1.35700e+03]])"
      ]
     },
     "execution_count": 4,
     "metadata": {},
     "output_type": "execute_result"
    }
   ],
   "source": [
    "import numpy as np\n",
    "data = np.array(np.genfromtxt('kc_house_data.csv', delimiter=',', skip_header=True))\n",
    "data"
   ]
  },
  {
   "attachments": {},
   "cell_type": "markdown",
   "metadata": {},
   "source": [
    "Ahora limpio las dos variables de price y sqft living"
   ]
  },
  {
   "cell_type": "code",
   "execution_count": 5,
   "metadata": {},
   "outputs": [
    {
     "data": {
      "text/plain": [
       "(21613, 21)"
      ]
     },
     "execution_count": 5,
     "metadata": {},
     "output_type": "execute_result"
    }
   ],
   "source": [
    "data = data[~np.isnan(data[:,2])] # price\n",
    "data = data[~np.isnan(data[:,5])] # sqft living\n",
    "data.shape\n"
   ]
  },
  {
   "attachments": {},
   "cell_type": "markdown",
   "metadata": {},
   "source": [
    "Funciones que serán utiles tanto para regresió lineal como para gradiente. "
   ]
  },
  {
   "cell_type": "code",
   "execution_count": 6,
   "metadata": {},
   "outputs": [],
   "source": [
    "norm = lambda v: (sum(v**2))**0.5\n",
    "cost = lambda X, y, t: ((X @ t - y) ** 2).sum() / len(y)\n",
    "grad = lambda X, y, t: 2 * X.T @ (X @ t - y) / len(y)"
   ]
  },
  {
   "attachments": {},
   "cell_type": "markdown",
   "metadata": {},
   "source": [
    "Function de Regresion Lineal <br>\n",
    "Segun fue visto en clase"
   ]
  },
  {
   "cell_type": "code",
   "execution_count": 10,
   "metadata": {},
   "outputs": [],
   "source": [
    "def regLineal(X, y, t, cost, grad, a=0.1, n=1000, on_step=None): \n",
    "    costs = []\n",
    "    for i in range(n):\n",
    "        t -= a * grad(X, y, t)\n",
    "        costs.append(cost(X, y, t))\n",
    "        if on_step:\n",
    "            on_step(t)\n",
    "    \n",
    "    return t, costs"
   ]
  },
  {
   "attachments": {},
   "cell_type": "markdown",
   "metadata": {},
   "source": [
    "Function de Gradiente vista en clase"
   ]
  },
  {
   "cell_type": "code",
   "execution_count": 11,
   "metadata": {},
   "outputs": [],
   "source": [
    "def gradient_descent(theta, funcionCostos, costoGradiente, learning_rate=0.01, threshold=0.001, max_iter=10000, params=[]):\n",
    "    i = 0\n",
    "    costs, thetas = [], []\n",
    "    while np.linalg.norm(costoGradiente(theta, *params)) > threshold and i < max_iter:\n",
    "        i += 1\n",
    "        theta -= learning_rate * costoGradiente(theta, *params)\n",
    "        costs.append(funcionCostos(theta, *params))\n",
    "        thetas.append(theta.copy())\n",
    "\n",
    "    return theta, costs, thetas"
   ]
  },
  {
   "attachments": {},
   "cell_type": "markdown",
   "metadata": {},
   "source": [
    "Function de costo linear"
   ]
  },
  {
   "cell_type": "code",
   "execution_count": 14,
   "metadata": {},
   "outputs": [],
   "source": [
    "def costoLinear(theta, X, y, lmbd):\n",
    "    return (( (X @ theta) - y) ** 2).sum() / (2 * len(X)) + ((lmbd / (2 * len(X))) * (theta[1:] ** 2).sum())"
   ]
  },
  {
   "attachments": {},
   "cell_type": "markdown",
   "metadata": {},
   "source": [
    "Function de costo gradiente"
   ]
  },
  {
   "cell_type": "code",
   "execution_count": 15,
   "metadata": {},
   "outputs": [],
   "source": [
    "def costoGradiente(theta, X, y, lmbd):\n",
    "    theta_copy = theta.copy()\n",
    "    theta_copy[0] = 0\n",
    "    reg_prime = lmbd * theta_copy / len(X)\n",
    "    return ((X.T @ ( (X @ theta) - y)) / len(X)) + reg_prime"
   ]
  },
  {
   "attachments": {},
   "cell_type": "markdown",
   "metadata": {},
   "source": [
    "### >> Modelo de regresión lineal"
   ]
  },
  {
   "attachments": {},
   "cell_type": "markdown",
   "metadata": {},
   "source": [
    "Primero separamos X y Y. Siendo estas:\n",
    "- price\n",
    "- sqft living"
   ]
  },
  {
   "cell_type": "code",
   "execution_count": 16,
   "metadata": {},
   "outputs": [],
   "source": [
    "X = data[:, 2].reshape(-1, 1)\n",
    "Y = data[:, 5].reshape(-1, 1)"
   ]
  },
  {
   "attachments": {},
   "cell_type": "markdown",
   "metadata": {},
   "source": [
    "ahora hay que calcular el Xr"
   ]
  },
  {
   "cell_type": "code",
   "execution_count": 17,
   "metadata": {},
   "outputs": [],
   "source": [
    "Xr = np.column_stack((np.ones((len(X), 1)), X.reshape(-1, 1))).reshape(-1,2)"
   ]
  },
  {
   "attachments": {},
   "cell_type": "markdown",
   "metadata": {},
   "source": [
    "ahora el primer valor que tomara el theta"
   ]
  },
  {
   "cell_type": "code",
   "execution_count": 19,
   "metadata": {},
   "outputs": [],
   "source": [
    "theta_0 = np.random.rand(Xr.shape[1])\n",
    "theta_0 = theta_0[~np.isnan(theta_0)].reshape(-1, 1)"
   ]
  },
  {
   "attachments": {},
   "cell_type": "markdown",
   "metadata": {},
   "source": [
    "Ahora se calcula la regresion lineal"
   ]
  },
  {
   "cell_type": "code",
   "execution_count": 20,
   "metadata": {},
   "outputs": [
    {
     "name": "stderr",
     "output_type": "stream",
     "text": [
      "C:\\Users\\marco\\AppData\\Local\\Temp\\ipykernel_27516\\1767679890.py:2: RuntimeWarning: overflow encountered in square\n",
      "  cost = lambda X, y, t: ((X @ t - y) ** 2).sum() / len(y)\n",
      "C:\\Users\\marco\\AppData\\Local\\Temp\\ipykernel_27516\\1767679890.py:3: RuntimeWarning: overflow encountered in matmul\n",
      "  grad = lambda X, y, t: 2 * X.T @ (X @ t - y) / len(y)\n",
      "C:\\Users\\marco\\AppData\\Local\\Temp\\ipykernel_27516\\2859185945.py:4: RuntimeWarning: invalid value encountered in subtract\n",
      "  t -= a * grad(X, y, t)\n"
     ]
    }
   ],
   "source": [
    "thetaf, cost = regLineal(Xr, Y, theta_0, cost, grad, a=0.025, n=100)"
   ]
  },
  {
   "attachments": {},
   "cell_type": "markdown",
   "metadata": {},
   "source": [
    "Ahora tenemos el valor de Xm"
   ]
  },
  {
   "cell_type": "code",
   "execution_count": 21,
   "metadata": {},
   "outputs": [],
   "source": [
    "xmr = np.array([[1, 0], [1, len(X)]])"
   ]
  },
  {
   "attachments": {},
   "cell_type": "markdown",
   "metadata": {},
   "source": [
    "Finalmente demostramos los resultados graficamente"
   ]
  },
  {
   "cell_type": "code",
   "execution_count": 22,
   "metadata": {},
   "outputs": [
    {
     "data": {
      "image/png": "[encoded data removed]",
      "text/plain": [
       "<Figure size 640x480 with 1 Axes>"
      ]
     },
     "metadata": {},
     "output_type": "display_data"
    }
   ],
   "source": [
    "import matplotlib.pyplot as plt\n",
    "plt.plot(Xr[:,1], Y, 'ro')\n",
    "plt.plot(np.array([[0], [len(X)]]), xmr @ thetaf)\n",
    "plt.show()"
   ]
  },
  {
   "attachments": {},
   "cell_type": "markdown",
   "metadata": {},
   "source": [
    "### Modelo con decenso de gradiente"
   ]
  },
  {
   "cell_type": "code",
   "execution_count": null,
   "metadata": {},
   "outputs": [],
   "source": [
    "import numpy as np\n",
    "data = np.array(np.genfromtxt('kc_house_data.csv', delimiter=',', skip_header=True))\n",
    "data"
   ]
  },
  {
   "cell_type": "code",
   "execution_count": null,
   "metadata": {},
   "outputs": [],
   "source": [
    "X = data[:, 2].reshape(-1, 1)\n",
    "Y = data[:, 5].reshape(-1, 1)\n",
    "m, n = X.shape"
   ]
  },
  {
   "attachments": {},
   "cell_type": "markdown",
   "metadata": {},
   "source": [
    "ahora primer valor de theta"
   ]
  },
  {
   "cell_type": "code",
   "execution_count": null,
   "metadata": {},
   "outputs": [],
   "source": [
    "theta_0 = np.random.rand(n, 1)"
   ]
  },
  {
   "attachments": {},
   "cell_type": "markdown",
   "metadata": {},
   "source": [
    "Ahora se calcula con el gradient descent"
   ]
  },
  {
   "cell_type": "code",
   "execution_count": null,
   "metadata": {},
   "outputs": [],
   "source": [
    "r_theta, costs, thetas = gradient_descent(X, y, theta_0, costoLinear, costoGradiente, learning_rate=0.00000001, threshold=0.001, max_iter=10000)"
   ]
  },
  {
   "cell_type": "markdown",
   "metadata": {},
   "source": []
  }
 ],
 "metadata": {
  "kernelspec": {
   "display_name": "Python 3",
   "language": "python",
   "name": "python3"
  },
  "language_info": {
   "codemirror_mode": {
    "name": "ipython",
    "version": 3
   },
   "file_extension": ".py",
   "mimetype": "text/x-python",
   "name": "python",
   "nbconvert_exporter": "python",
   "pygments_lexer": "ipython3",
   "version": "3.10.5"
  },
  "orig_nbformat": 4
 },
 "nbformat": 4,
 "nbformat_minor": 2
}
